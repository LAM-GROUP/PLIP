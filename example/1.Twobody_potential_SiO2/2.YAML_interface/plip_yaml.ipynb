{
 "cells": [
  {
   "cell_type": "markdown",
   "id": "1cd8b800",
   "metadata": {},
   "source": [
    "# PLIP tutorial for fitting PLIP potential for SiO2"
   ]
  },
  {
   "cell_type": "markdown",
   "id": "ef6f22d8",
   "metadata": {},
   "source": [
    "In this tutorial, we will learn to generate a physical lasso lars machine (PLIP) learning ineratomic potetnial for SiO2 using a yaml interface"
   ]
  },
  {
   "cell_type": "markdown",
   "id": "5ffde5b8",
   "metadata": {},
   "source": [
    "## Check PLIP version"
   ]
  },
  {
   "cell_type": "code",
   "execution_count": null,
   "id": "7822e908",
   "metadata": {},
   "outputs": [],
   "source": [
    "!plip_fit --version"
   ]
  },
  {
   "cell_type": "markdown",
   "id": "641da7b7",
   "metadata": {},
   "source": [
    "## Generale PLIP yaml file "
   ]
  },
  {
   "cell_type": "code",
   "execution_count": null,
   "id": "457b2625",
   "metadata": {},
   "outputs": [],
   "source": [
    "import yaml\n",
    "\n",
    "\n",
    "data = {\n",
    "        \"Input\": {                          # Inputs for machine learning fingerprint                               \n",
    "            \"Rcut\": 6,                      # Cut-off distance\n",
    "            \"DUMP\": \"Input\",                # Folder location of structure files\n",
    "            \"RAA\": 2.1,                     # Nbody cut-off\n",
    "            \"RBB\": 2.3,                     # Nbody cut-off\n",
    "            \"RAB\": 2.4,                     # Nbody cut-off\n",
    "            \"i_nature\": 1,                  # Descriptor type 1: gaussian\n",
    "            \"included\": 1,\n",
    "            \"a\": {                          # Width parameter gaussian\n",
    "                \"MIN\": 0.5, \n",
    "                \"MAX\": 1.5, \n",
    "                \"STEP\": 0.5},  \n",
    "            \"b\": {                          # Position parameter gaussian\n",
    "                \"MIN\": 0.5, \n",
    "                \"MAX\": 6, \n",
    "                \"STEP\": 0.5},   \n",
    "            \"2B\": 1,                        # Generate Twobody descriptor\n",
    "            \"3B\": 0,                        # Generate threebody descriptor(if present value=5)\n",
    "            \"NB\": 0,                        # Generate threebody descriptor(if present value=7)\n",
    "        },\n",
    "        \"compile\": False,                   # Compile C++ modules\n",
    "        \"genBin\": True,                     # Generate machine learning fingerprint\n",
    "        \"train\": {                          # Fit LassoLars\n",
    "            \"i_nature\": \"1\",                # Descriptor type 1: gaussian\n",
    "             \"alpha\":None\n",
    "        },                           \n",
    "        \"genPot\":True,                     # Generate LAMMSP potential\n",
    "    }\n",
    "\n",
    "with open(\"input.yaml\", \"w\") as f:\n",
    "        yaml.dump(data, f, sort_keys=False)\n"
   ]
  },
  {
   "cell_type": "code",
   "execution_count": null,
   "id": "ba221abb",
   "metadata": {},
   "outputs": [],
   "source": [
    "!plip_fit -i input.yaml\n"
   ]
  },
  {
   "cell_type": "markdown",
   "id": "3d5c6313",
   "metadata": {},
   "source": [
    "\n"
   ]
  },
  {
   "cell_type": "code",
   "execution_count": null,
   "id": "3d2d4fbe",
   "metadata": {},
   "outputs": [],
   "source": [
    "!ls"
   ]
  },
  {
   "cell_type": "markdown",
   "id": "687648e5",
   "metadata": {},
   "source": [
    "## Clean "
   ]
  },
  {
   "cell_type": "code",
   "execution_count": null,
   "id": "6b5c70ec",
   "metadata": {},
   "outputs": [],
   "source": [
    "!rm Input/*.bin\n",
    "!rm Coeff* Resul* Output_1.* \n",
    "!rm -r TMP POTS\n",
    "!rm input.txt input.yaml"
   ]
  },
  {
   "cell_type": "code",
   "execution_count": null,
   "id": "74fdb577",
   "metadata": {},
   "outputs": [],
   "source": [
    "!ls"
   ]
  },
  {
   "cell_type": "code",
   "execution_count": null,
   "id": "ac7e6932",
   "metadata": {},
   "outputs": [],
   "source": []
  }
 ],
 "metadata": {
  "kernelspec": {
   "display_name": "Python 3 (ipykernel)",
   "language": "python",
   "name": "python3"
  },
  "language_info": {
   "codemirror_mode": {
    "name": "ipython",
    "version": 3
   },
   "file_extension": ".py",
   "mimetype": "text/x-python",
   "name": "python",
   "nbconvert_exporter": "python",
   "pygments_lexer": "ipython3",
   "version": "3.8.10"
  }
 },
 "nbformat": 4,
 "nbformat_minor": 5
}
