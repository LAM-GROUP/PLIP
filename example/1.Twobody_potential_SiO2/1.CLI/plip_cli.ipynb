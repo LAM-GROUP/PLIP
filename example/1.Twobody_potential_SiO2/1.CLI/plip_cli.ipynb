{
 "cells": [
  {
   "cell_type": "markdown",
   "id": "1cd8b800",
   "metadata": {},
   "source": [
    "# PLIP tutorial for fitting PLIP potential for SiO2"
   ]
  },
  {
   "cell_type": "markdown",
   "id": "ef6f22d8",
   "metadata": {},
   "source": [
    "In this tutorial, we will learn to generate a physical lasso lars machine (PLIP) learning ineratomic potetnial for SiO2. For simplicity, we will generate a two body potetnials using gaussian functions as basis functions. To achieve higher accuracy, the three-body and N-body descriptors should be used. We will use the command line interface of PLIP for this example.  "
   ]
  },
  {
   "cell_type": "markdown",
   "id": "5ffde5b8",
   "metadata": {},
   "source": [
    "## Check python version"
   ]
  },
  {
   "cell_type": "code",
   "execution_count": null,
   "id": "7822e908",
   "metadata": {},
   "outputs": [],
   "source": [
    "!python --version"
   ]
  },
  {
   "cell_type": "markdown",
   "id": "641da7b7",
   "metadata": {},
   "source": [
    "## Command line interface"
   ]
  },
  {
   "cell_type": "code",
   "execution_count": null,
   "id": "457b2625",
   "metadata": {},
   "outputs": [],
   "source": [
    "!plip_fit --help"
   ]
  },
  {
   "cell_type": "code",
   "execution_count": null,
   "id": "ba221abb",
   "metadata": {},
   "outputs": [],
   "source": [
    "!plip_fit --version\n"
   ]
  },
  {
   "cell_type": "markdown",
   "id": "3d5c6313",
   "metadata": {},
   "source": [
    "## Compile C++ modules\n"
   ]
  },
  {
   "cell_type": "code",
   "execution_count": null,
   "id": "fdbca1e4",
   "metadata": {},
   "outputs": [],
   "source": [
    "!plip_fit --compile"
   ]
  },
  {
   "cell_type": "markdown",
   "id": "23f61b87",
   "metadata": {},
   "source": [
    "## Generate machine learning finger print "
   ]
  },
  {
   "cell_type": "code",
   "execution_count": null,
   "id": "3d2d4fbe",
   "metadata": {},
   "outputs": [],
   "source": [
    "!plip_fit -g input.txt"
   ]
  },
  {
   "cell_type": "markdown",
   "id": "eb9612a7",
   "metadata": {},
   "source": [
    "## Train PLIP potential"
   ]
  },
  {
   "cell_type": "code",
   "execution_count": null,
   "id": "d8561893",
   "metadata": {},
   "outputs": [],
   "source": [
    "!plip_fit --train 1 --alpha 6e-06"
   ]
  },
  {
   "cell_type": "code",
   "execution_count": null,
   "id": "ed098e79",
   "metadata": {},
   "outputs": [],
   "source": [
    "!cat Output_1.log"
   ]
  },
  {
   "cell_type": "code",
   "execution_count": null,
   "id": "1355637c",
   "metadata": {},
   "outputs": [],
   "source": [
    "## Comparison of forces Training and Prediction\n",
    "import matplotlib.pyplot as plt\n",
    "import numpy as np\n",
    "\n",
    "yref_train, yplip_train = np.genfromtxt('ResultsTrain6e-06_1.txt',usecols=(1,2),unpack=True)\n",
    "yref_test, yplip_test = np.genfromtxt('ResultsTest6e-06_1.txt',usecols=(1,2),unpack=True)\n",
    "\n",
    "plt.scatter(yref_train,yplip_train,label='Train')\n",
    "plt.scatter(yref_test,yplip_test,c='r',label='Test')\n",
    "lims = [\n",
    "    np.min([plt.xlim(), plt.ylim()]),  # min of both axes\n",
    "    np.max([plt.xlim(), plt.ylim()]),  # max of both axes\n",
    "]\n",
    "\n",
    "plt.plot(lims, lims, 'k--', alpha=0.75, zorder=0)\n",
    "plt.legend()\n"
   ]
  },
  {
   "cell_type": "markdown",
   "id": "e10f6d3c",
   "metadata": {},
   "source": [
    "## Generate Potential for LAMMPS"
   ]
  },
  {
   "cell_type": "code",
   "execution_count": null,
   "id": "84415b62",
   "metadata": {},
   "outputs": [],
   "source": [
    "!plip_fit --genpot"
   ]
  },
  {
   "cell_type": "code",
   "execution_count": null,
   "id": "d2fab105",
   "metadata": {},
   "outputs": [],
   "source": [
    "!ls POTS/*"
   ]
  },
  {
   "cell_type": "markdown",
   "id": "687648e5",
   "metadata": {},
   "source": [
    "## Clean "
   ]
  },
  {
   "cell_type": "code",
   "execution_count": null,
   "id": "6b5c70ec",
   "metadata": {},
   "outputs": [],
   "source": [
    "!rm Input/*.bin\n",
    "!rm Coeff* Resul* Output_1.* \n",
    "!rm -r TMP POTS"
   ]
  },
  {
   "cell_type": "code",
   "execution_count": null,
   "id": "74fdb577",
   "metadata": {},
   "outputs": [],
   "source": [
    "!ls"
   ]
  }
 ],
 "metadata": {
  "kernelspec": {
   "display_name": "Python 3 (ipykernel)",
   "language": "python",
   "name": "python3"
  },
  "language_info": {
   "codemirror_mode": {
    "name": "ipython",
    "version": 3
   },
   "file_extension": ".py",
   "mimetype": "text/x-python",
   "name": "python",
   "nbconvert_exporter": "python",
   "pygments_lexer": "ipython3",
   "version": "3.8.10"
  }
 },
 "nbformat": 4,
 "nbformat_minor": 5
}
