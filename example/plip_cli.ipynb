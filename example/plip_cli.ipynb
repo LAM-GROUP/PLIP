{
 "cells": [
  {
   "cell_type": "markdown",
   "id": "1cd8b800",
   "metadata": {},
   "source": [
    "# PLIP tutorial"
   ]
  },
  {
   "cell_type": "markdown",
   "id": "ef6f22d8",
   "metadata": {},
   "source": [
    "In this tutorial, we will learn to fit physical lasso lars machine (PLIP) learning model for SiO2 data set. Firstly we will show CLI for PLIP. Then "
   ]
  },
  {
   "cell_type": "markdown",
   "id": "5ffde5b8",
   "metadata": {},
   "source": [
    "## Check python version"
   ]
  },
  {
   "cell_type": "code",
   "execution_count": 1,
   "id": "7822e908",
   "metadata": {},
   "outputs": [
    {
     "name": "stdout",
     "output_type": "stream",
     "text": [
      "Python 3.8.10\n"
     ]
    }
   ],
   "source": [
    "!python --version"
   ]
  },
  {
   "cell_type": "markdown",
   "id": "641da7b7",
   "metadata": {},
   "source": [
    "## Command line interface"
   ]
  },
  {
   "cell_type": "code",
   "execution_count": 2,
   "id": "457b2625",
   "metadata": {},
   "outputs": [
    {
     "name": "stdout",
     "output_type": "stream",
     "text": [
      "usage: PLIP [-h] [--yaml {input.yaml}] [--compile] [--genbin {input.txt}]\n",
      "            [--train {1}] [--genpot] [--version]\n",
      "\n",
      "Physical Lassolars interaction potentials\n",
      "\n",
      "optional arguments:\n",
      "  -h, --help            show this help message and exit\n",
      "  --yaml {input.yaml}, -i {input.yaml}\n",
      "                        PLIP workflow\n",
      "  --compile, -c         Compile C++ modules\n",
      "  --genbin {input.txt}, -g {input.txt}\n",
      "                        Generate binary files\n",
      "  --train {1}, -t {1}   Run the lassolars\n",
      "  --genpot, -p          Generate potential for all coefficient files\n",
      "  --version, -v         version of the package\n"
     ]
    }
   ],
   "source": [
    "!plip_fit --help"
   ]
  },
  {
   "cell_type": "code",
   "execution_count": 3,
   "id": "ba221abb",
   "metadata": {},
   "outputs": [
    {
     "name": "stdout",
     "output_type": "stream",
     "text": [
      "Namespace(compile=False, genbin=None, genpot=False, train=None, version=True, yaml=None)\n",
      "0.1.0\n"
     ]
    }
   ],
   "source": [
    "!plip_fit --version\n"
   ]
  },
  {
   "cell_type": "markdown",
   "id": "3d5c6313",
   "metadata": {},
   "source": [
    "## Compile C++ modules\n"
   ]
  },
  {
   "cell_type": "code",
   "execution_count": null,
   "id": "fdbca1e4",
   "metadata": {},
   "outputs": [],
   "source": [
    "!plip_fit --compile"
   ]
  },
  {
   "cell_type": "markdown",
   "id": "23f61b87",
   "metadata": {},
   "source": [
    "## Generate machine learning finger print "
   ]
  },
  {
   "cell_type": "code",
   "execution_count": null,
   "id": "3d2d4fbe",
   "metadata": {},
   "outputs": [],
   "source": [
    "!plip_fit -g input.txt"
   ]
  },
  {
   "cell_type": "markdown",
   "id": "eb9612a7",
   "metadata": {},
   "source": [
    "## Train PLIP potential"
   ]
  },
  {
   "cell_type": "code",
   "execution_count": 4,
   "id": "d8561893",
   "metadata": {},
   "outputs": [
    {
     "name": "stdout",
     "output_type": "stream",
     "text": [
      "Namespace(compile=False, genbin=None, genpot=False, train='1', version=False, yaml=None)\n",
      "Running LassoLars\n",
      "['1']\n",
      "1\n",
      "input files:Refs/100.forces\n",
      "Refs/100.forces\n",
      "Input/100.poscar_f1_*bin\n",
      "['Input/100.poscar_f1_2B.bin' 'Input/100.poscar_f1_3B.bin'\n",
      " 'Input/100.poscar_f1_NB.bin']\n",
      "(1152, 1980) (1152,)\n",
      "Refs/101.forces\n",
      "Input/101.poscar_f1_*bin\n",
      "['Input/101.poscar_f1_2B.bin' 'Input/101.poscar_f1_3B.bin'\n",
      " 'Input/101.poscar_f1_NB.bin']\n",
      "Refs/102.forces\n",
      "Input/102.poscar_f1_*bin\n",
      "['Input/102.poscar_f1_2B.bin' 'Input/102.poscar_f1_3B.bin'\n",
      " 'Input/102.poscar_f1_NB.bin']\n",
      "Refs/103.forces\n",
      "Input/103.poscar_f1_*bin\n",
      "['Input/103.poscar_f1_2B.bin' 'Input/103.poscar_f1_3B.bin'\n",
      " 'Input/103.poscar_f1_NB.bin']\n",
      "Refs/104.forces\n",
      "Input/104.poscar_f1_*bin\n",
      "['Input/104.poscar_f1_2B.bin' 'Input/104.poscar_f1_3B.bin'\n",
      " 'Input/104.poscar_f1_NB.bin']\n",
      "Refs/105.forces\n",
      "Input/105.poscar_f1_*bin\n",
      "['Input/105.poscar_f1_2B.bin' 'Input/105.poscar_f1_3B.bin'\n",
      " 'Input/105.poscar_f1_NB.bin']\n",
      "Refs/106.forces\n",
      "Input/106.poscar_f1_*bin\n",
      "['Input/106.poscar_f1_2B.bin' 'Input/106.poscar_f1_3B.bin'\n",
      " 'Input/106.poscar_f1_NB.bin']\n",
      "Refs/107.forces\n",
      "Input/107.poscar_f1_*bin\n",
      "['Input/107.poscar_f1_2B.bin' 'Input/107.poscar_f1_3B.bin'\n",
      " 'Input/107.poscar_f1_NB.bin']\n",
      "Refs/108.forces\n",
      "Input/108.poscar_f1_*bin\n",
      "['Input/108.poscar_f1_2B.bin' 'Input/108.poscar_f1_3B.bin'\n",
      " 'Input/108.poscar_f1_NB.bin']\n",
      "Refs/109.forces\n",
      "Input/109.poscar_f1_*bin\n",
      "['Input/109.poscar_f1_2B.bin' 'Input/109.poscar_f1_3B.bin'\n",
      " 'Input/109.poscar_f1_NB.bin']\n",
      "Refs/110.forces\n",
      "Input/110.poscar_f1_*bin\n",
      "['Input/110.poscar_f1_2B.bin' 'Input/110.poscar_f1_3B.bin'\n",
      " 'Input/110.poscar_f1_NB.bin']\n",
      "Refs/111.forces\n",
      "Input/111.poscar_f1_*bin\n",
      "['Input/111.poscar_f1_2B.bin' 'Input/111.poscar_f1_3B.bin'\n",
      " 'Input/111.poscar_f1_NB.bin']\n",
      "Refs/112.forces\n",
      "Input/112.poscar_f1_*bin\n",
      "['Input/112.poscar_f1_2B.bin' 'Input/112.poscar_f1_3B.bin'\n",
      " 'Input/112.poscar_f1_NB.bin']\n",
      "Refs/113.forces\n",
      "Input/113.poscar_f1_*bin\n",
      "['Input/113.poscar_f1_2B.bin' 'Input/113.poscar_f1_3B.bin'\n",
      " 'Input/113.poscar_f1_NB.bin']\n",
      "Refs/114.forces\n",
      "Input/114.poscar_f1_*bin\n",
      "['Input/114.poscar_f1_2B.bin' 'Input/114.poscar_f1_3B.bin'\n",
      " 'Input/114.poscar_f1_NB.bin']\n",
      "Refs/115.forces\n",
      "Input/115.poscar_f1_*bin\n",
      "['Input/115.poscar_f1_2B.bin' 'Input/115.poscar_f1_3B.bin'\n",
      " 'Input/115.poscar_f1_NB.bin']\n",
      "Refs/116.forces\n",
      "Input/116.poscar_f1_*bin\n",
      "['Input/116.poscar_f1_2B.bin' 'Input/116.poscar_f1_3B.bin'\n",
      " 'Input/116.poscar_f1_NB.bin']\n",
      "Refs/117.forces\n",
      "Input/117.poscar_f1_*bin\n",
      "['Input/117.poscar_f1_2B.bin' 'Input/117.poscar_f1_3B.bin'\n",
      " 'Input/117.poscar_f1_NB.bin']\n",
      "Refs/118.forces\n",
      "Input/118.poscar_f1_*bin\n",
      "['Input/118.poscar_f1_2B.bin' 'Input/118.poscar_f1_3B.bin'\n",
      " 'Input/118.poscar_f1_NB.bin']\n",
      "Refs/119.forces\n",
      "Input/119.poscar_f1_*bin\n",
      "['Input/119.poscar_f1_2B.bin' 'Input/119.poscar_f1_3B.bin'\n",
      " 'Input/119.poscar_f1_NB.bin']\n",
      "Refs/120.forces\n",
      "Input/120.poscar_f1_*bin\n",
      "['Input/120.poscar_f1_2B.bin' 'Input/120.poscar_f1_3B.bin'\n",
      " 'Input/120.poscar_f1_NB.bin']\n",
      "Refs/121.forces\n",
      "Input/121.poscar_f1_*bin\n",
      "['Input/121.poscar_f1_2B.bin' 'Input/121.poscar_f1_3B.bin'\n",
      " 'Input/121.poscar_f1_NB.bin']\n",
      "Refs/122.forces\n",
      "Input/122.poscar_f1_*bin\n",
      "['Input/122.poscar_f1_2B.bin' 'Input/122.poscar_f1_3B.bin'\n",
      " 'Input/122.poscar_f1_NB.bin']\n",
      "Refs/123.forces\n",
      "Input/123.poscar_f1_*bin\n",
      "['Input/123.poscar_f1_2B.bin' 'Input/123.poscar_f1_3B.bin'\n",
      " 'Input/123.poscar_f1_NB.bin']\n",
      "Refs/124.forces\n",
      "Input/124.poscar_f1_*bin\n",
      "['Input/124.poscar_f1_2B.bin' 'Input/124.poscar_f1_3B.bin'\n",
      " 'Input/124.poscar_f1_NB.bin']\n",
      "Refs/125.forces\n",
      "Input/125.poscar_f1_*bin\n",
      "['Input/125.poscar_f1_2B.bin' 'Input/125.poscar_f1_3B.bin'\n",
      " 'Input/125.poscar_f1_NB.bin']\n",
      "Refs/126.forces\n",
      "Input/126.poscar_f1_*bin\n",
      "['Input/126.poscar_f1_2B.bin' 'Input/126.poscar_f1_3B.bin'\n",
      " 'Input/126.poscar_f1_NB.bin']\n",
      "Refs/127.forces\n",
      "Input/127.poscar_f1_*bin\n",
      "['Input/127.poscar_f1_2B.bin' 'Input/127.poscar_f1_3B.bin'\n",
      " 'Input/127.poscar_f1_NB.bin']\n",
      "Refs/128.forces\n",
      "Input/128.poscar_f1_*bin\n",
      "['Input/128.poscar_f1_2B.bin' 'Input/128.poscar_f1_3B.bin'\n",
      " 'Input/128.poscar_f1_NB.bin']\n",
      "Refs/129.forces\n",
      "Input/129.poscar_f1_*bin\n",
      "['Input/129.poscar_f1_2B.bin' 'Input/129.poscar_f1_3B.bin'\n",
      " 'Input/129.poscar_f1_NB.bin']\n",
      "Refs/130.forces\n",
      "Input/130.poscar_f1_*bin\n",
      "['Input/130.poscar_f1_2B.bin' 'Input/130.poscar_f1_3B.bin'\n",
      " 'Input/130.poscar_f1_NB.bin']\n",
      "Refs/131.forces\n",
      "Input/131.poscar_f1_*bin\n",
      "['Input/131.poscar_f1_2B.bin' 'Input/131.poscar_f1_3B.bin'\n",
      " 'Input/131.poscar_f1_NB.bin']\n",
      "Refs/132.forces\n",
      "Input/132.poscar_f1_*bin\n",
      "['Input/132.poscar_f1_2B.bin' 'Input/132.poscar_f1_3B.bin'\n",
      " 'Input/132.poscar_f1_NB.bin']\n",
      "Refs/133.forces\n",
      "Input/133.poscar_f1_*bin\n",
      "['Input/133.poscar_f1_2B.bin' 'Input/133.poscar_f1_3B.bin'\n",
      " 'Input/133.poscar_f1_NB.bin']\n",
      "Refs/134.forces\n",
      "Input/134.poscar_f1_*bin\n",
      "['Input/134.poscar_f1_2B.bin' 'Input/134.poscar_f1_3B.bin'\n",
      " 'Input/134.poscar_f1_NB.bin']\n",
      "Refs/135.forces\n",
      "Input/135.poscar_f1_*bin\n",
      "['Input/135.poscar_f1_2B.bin' 'Input/135.poscar_f1_3B.bin'\n",
      " 'Input/135.poscar_f1_NB.bin']\n",
      "Refs/136.forces\n",
      "Input/136.poscar_f1_*bin\n",
      "['Input/136.poscar_f1_2B.bin' 'Input/136.poscar_f1_3B.bin'\n",
      " 'Input/136.poscar_f1_NB.bin']\n",
      "Refs/137.forces\n",
      "Input/137.poscar_f1_*bin\n",
      "['Input/137.poscar_f1_2B.bin' 'Input/137.poscar_f1_3B.bin'\n",
      " 'Input/137.poscar_f1_NB.bin']\n",
      "Refs/138.forces\n",
      "Input/138.poscar_f1_*bin\n",
      "['Input/138.poscar_f1_2B.bin' 'Input/138.poscar_f1_3B.bin'\n",
      " 'Input/138.poscar_f1_NB.bin']\n",
      "Refs/139.forces\n",
      "Input/139.poscar_f1_*bin\n",
      "['Input/139.poscar_f1_2B.bin' 'Input/139.poscar_f1_3B.bin'\n",
      " 'Input/139.poscar_f1_NB.bin']\n",
      "Refs/140.forces\n",
      "Input/140.poscar_f1_*bin\n",
      "['Input/140.poscar_f1_2B.bin' 'Input/140.poscar_f1_3B.bin'\n",
      " 'Input/140.poscar_f1_NB.bin']\n",
      "Refs/141.forces\n",
      "Input/141.poscar_f1_*bin\n",
      "['Input/141.poscar_f1_2B.bin' 'Input/141.poscar_f1_3B.bin'\n",
      " 'Input/141.poscar_f1_NB.bin']\n",
      "Refs/142.forces\n",
      "Input/142.poscar_f1_*bin\n",
      "['Input/142.poscar_f1_2B.bin' 'Input/142.poscar_f1_3B.bin'\n",
      " 'Input/142.poscar_f1_NB.bin']\n",
      "Refs/143.forces\n",
      "Input/143.poscar_f1_*bin\n",
      "['Input/143.poscar_f1_2B.bin' 'Input/143.poscar_f1_3B.bin'\n",
      " 'Input/143.poscar_f1_NB.bin']\n",
      "Refs/144.forces\n",
      "Input/144.poscar_f1_*bin\n",
      "['Input/144.poscar_f1_2B.bin' 'Input/144.poscar_f1_3B.bin'\n",
      " 'Input/144.poscar_f1_NB.bin']\n",
      "Refs/145.forces\n",
      "Input/145.poscar_f1_*bin\n",
      "['Input/145.poscar_f1_2B.bin' 'Input/145.poscar_f1_3B.bin'\n",
      " 'Input/145.poscar_f1_NB.bin']\n",
      "Refs/146.forces\n",
      "Input/146.poscar_f1_*bin\n",
      "['Input/146.poscar_f1_2B.bin' 'Input/146.poscar_f1_3B.bin'\n",
      " 'Input/146.poscar_f1_NB.bin']\n",
      "^C\n",
      "Traceback (most recent call last):\n",
      "  File \"/home/akammothumk/Documents/Work/CEMES/1.Projects/1.NucleFox/9.PLIP_JOSS/PLIP/env/bin/plip_fit\", line 8, in <module>\n",
      "    sys.exit(interface())\n",
      "  File \"/home/akammothumk/Documents/Work/CEMES/1.Projects/1.NucleFox/9.PLIP_JOSS/PLIP/env/lib/python3.8/site-packages/plip/cli/interface.py\", line 60, in interface\n",
      "    train(args.train)\n",
      "  File \"/home/akammothumk/Documents/Work/CEMES/1.Projects/1.NucleFox/9.PLIP_JOSS/PLIP/env/lib/python3.8/site-packages/plip/main.py\", line 82, in train\n",
      "    runLasso(args)\n",
      "  File \"/home/akammothumk/Documents/Work/CEMES/1.Projects/1.NucleFox/9.PLIP_JOSS/PLIP/env/lib/python3.8/site-packages/plip/Lasso.py\", line 114, in runLasso\n",
      "    XMAT_tmp, Yin_tmp = readFile(input_file, list_itype)\n",
      "  File \"/home/akammothumk/Documents/Work/CEMES/1.Projects/1.NucleFox/9.PLIP_JOSS/PLIP/env/lib/python3.8/site-packages/plip/Lasso.py\", line 74, in readFile\n",
      "    XMAT_tmp = np.genfromtxt(input_bin)\n",
      "  File \"/home/akammothumk/Documents/Work/CEMES/1.Projects/1.NucleFox/9.PLIP_JOSS/PLIP/env/lib/python3.8/site-packages/numpy/lib/npyio.py\", line 2324, in genfromtxt\n",
      "    zip(*[[conv._loose_call(_r) for _r in map(itemgetter(i), rows)]\n",
      "  File \"/home/akammothumk/Documents/Work/CEMES/1.Projects/1.NucleFox/9.PLIP_JOSS/PLIP/env/lib/python3.8/site-packages/numpy/lib/npyio.py\", line 2324, in <listcomp>\n",
      "    zip(*[[conv._loose_call(_r) for _r in map(itemgetter(i), rows)]\n",
      "  File \"/home/akammothumk/Documents/Work/CEMES/1.Projects/1.NucleFox/9.PLIP_JOSS/PLIP/env/lib/python3.8/site-packages/numpy/lib/npyio.py\", line 2324, in <listcomp>\n",
      "    zip(*[[conv._loose_call(_r) for _r in map(itemgetter(i), rows)]\n",
      "  File \"/home/akammothumk/Documents/Work/CEMES/1.Projects/1.NucleFox/9.PLIP_JOSS/PLIP/env/lib/python3.8/site-packages/numpy/lib/_iotools.py\", line 672, in _loose_call\n",
      "    return self.func(value)\n",
      "KeyboardInterrupt\n"
     ]
    }
   ],
   "source": [
    "!plip_fit --train 1 "
   ]
  },
  {
   "cell_type": "code",
   "execution_count": 5,
   "id": "ed098e79",
   "metadata": {},
   "outputs": [
    {
     "name": "stdout",
     "output_type": "stream",
     "text": [
      "1e-07 0.965113 0.966172 0.158241 0.160366 0.106912 0.107731 154 1980 0.517577  \n",
      "6e-07 0.965113 0.966172 0.158241 0.160366 0.106912 0.107731 154 1980 0.517577  \n",
      "1e-06 0.965113 0.966172 0.158241 0.160366 0.106912 0.107731 154 1980 0.517577  \n",
      "6e-06 0.956576 0.957732 0.176545 0.179258 0.118734 0.118982 129 1980 0.517577  \n",
      "1e-05 0.940955 0.942852 0.205865 0.208435 0.138263 0.137837 103 1980 0.517577  \n",
      "6e-05 0.852852 0.857627 0.324988 0.328993 0.215555 0.216355 30 1980 0.517577  \n",
      "0.0001 0.803532 0.808415 0.375522 0.38164 0.248483 0.249882 21 1980 0.517577  \n",
      "0.0006 0.33255 0.329065 0.692147 0.714189 0.439425 0.446337 5 1980 0.517577  \n"
     ]
    }
   ],
   "source": [
    "!cat Out_1.log"
   ]
  },
  {
   "cell_type": "code",
   "execution_count": 11,
   "id": "1355637c",
   "metadata": {},
   "outputs": [
    {
     "data": {
      "text/plain": [
       "'\\nfig,(ax1,ax2)= plt.subplots(1, 2, figsize=(9, 4.5), tight_layout=True) \\nax1.scatter(yref_train,yplip_train)\\nax2.scatter(yref_test,yplip_test)\\n\\nax1.set_xlabel(\\'Reference\\')\\nax1.set_ylabel(\\'PLIP\\')\\n\\nax1.set_title(\"Training set\")\\nax2.set_title(\"Test set\")\\n\\n\\nlims = [\\n    np.min([ax1.get_xlim(), ax1.get_ylim()]),  # min of both axes\\n    np.max([ax1.get_xlim(), ax1.get_ylim()]),  # max of both axes\\n]\\n\\n# now plot both limits against eachother\\nax1.plot(lims, lims, \\'k--\\', alpha=0.75, zorder=0)\\nax2.plot(lims, lims, \\'k--\\', alpha=0.75, zorder=0)\\n'"
      ]
     },
     "execution_count": 11,
     "metadata": {},
     "output_type": "execute_result"
    },
    {
     "data": {
      "image/png": "[encoded data removed]",
      "text/plain": [
       "<Figure size 640x480 with 1 Axes>"
      ]
     },
     "metadata": {},
     "output_type": "display_data"
    }
   ],
   "source": [
    "## Comparison of forces Training and Prediction\n",
    "import matplotlib.pyplot as plt\n",
    "import numpy as np\n",
    "\n",
    "yref_train, yplip_train = np.genfromtxt('ResultsTrain6e-06_1.txt',usecols=(1,2),unpack=True)\n",
    "yref_test, yplip_test = np.genfromtxt('ResultsTest6e-06_1.txt',usecols=(1,2),unpack=True)\n",
    "\n",
    "plt.scatter(yref_train,yplip_train,label='Train')\n",
    "plt.scatter(yref_test,yplip_test,c='r',label='Test')\n",
    "lims = [\n",
    "    np.min([plt.xlim(), plt.ylim()]),  # min of both axes\n",
    "    np.max([plt.xlim(), plt.ylim()]),  # max of both axes\n",
    "]\n",
    "\n",
    "plt.plot(lims, lims, 'k--', alpha=0.75, zorder=0)\n",
    "plt.legend()\n",
    "\"\"\"\n",
    "fig,(ax1,ax2)= plt.subplots(1, 2, figsize=(9, 4.5), tight_layout=True) \n",
    "ax1.scatter(yref_train,yplip_train)\n",
    "ax2.scatter(yref_test,yplip_test)\n",
    "\n",
    "ax1.set_xlabel('Reference')\n",
    "ax1.set_ylabel('PLIP')\n",
    "\n",
    "ax1.set_title(\"Training set\")\n",
    "ax2.set_title(\"Test set\")\n",
    "\n",
    "\n",
    "lims = [\n",
    "    np.min([ax1.get_xlim(), ax1.get_ylim()]),  # min of both axes\n",
    "    np.max([ax1.get_xlim(), ax1.get_ylim()]),  # max of both axes\n",
    "]\n",
    "\n",
    "# now plot both limits against eachother\n",
    "ax1.plot(lims, lims, 'k--', alpha=0.75, zorder=0)\n",
    "ax2.plot(lims, lims, 'k--', alpha=0.75, zorder=0)\n",
    "\"\"\""
   ]
  },
  {
   "cell_type": "code",
   "execution_count": null,
   "id": "c661bae1",
   "metadata": {},
   "outputs": [],
   "source": [
    "## Generate Potential for LAMMPS"
   ]
  },
  {
   "cell_type": "code",
   "execution_count": null,
   "id": "84415b62",
   "metadata": {},
   "outputs": [],
   "source": [
    "!plip_fit --genpot"
   ]
  },
  {
   "cell_type": "code",
   "execution_count": null,
   "id": "648ab4bb",
   "metadata": {},
   "outputs": [],
   "source": [
    "## Clean the generated test files"
   ]
  }
 ],
 "metadata": {
  "kernelspec": {
   "display_name": "Python 3 (ipykernel)",
   "language": "python",
   "name": "python3"
  },
  "language_info": {
   "codemirror_mode": {
    "name": "ipython",
    "version": 3
   },
   "file_extension": ".py",
   "mimetype": "text/x-python",
   "name": "python",
   "nbconvert_exporter": "python",
   "pygments_lexer": "ipython3",
   "version": "3.8.10"
  }
 },
 "nbformat": 4,
 "nbformat_minor": 5
}
